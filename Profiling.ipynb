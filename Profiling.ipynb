{
 "cells": [
  {
   "cell_type": "code",
   "execution_count": 1,
   "id": "4010e6cd-9df9-4a87-be6e-0b66b6b1ca7a",
   "metadata": {},
   "outputs": [],
   "source": [
    "import pandas as pd\n",
    "import numpy as np\n",
    "import pyperclip as pc\n",
    "import re\n",
    "\n",
    "bs = pd.read_json('./branch_service_transaction_info.json')\n",
    "ct = pd.read_json('./customer_transaction_info.json')\n"
   ]
  },
  {
   "cell_type": "markdown",
   "id": "73b9d433-df62-4276-a95a-f553ba57a1aa",
   "metadata": {},
   "source": [
    "# Data Profiling"
   ]
  },
  {
   "cell_type": "code",
   "execution_count": 2,
   "id": "62da8199-306c-47db-a438-60b8d28aca82",
   "metadata": {},
   "outputs": [
    {
     "data": {
      "text/plain": [
       "Index(['txn_id', 'avail_date', 'last_name', 'first_name', 'birthday'], dtype='object')"
      ]
     },
     "execution_count": 2,
     "metadata": {},
     "output_type": "execute_result"
    }
   ],
   "source": [
    "ct.columns"
   ]
  },
  {
   "cell_type": "markdown",
   "id": "1149582e-814c-4dd5-a239-537cd2f0342f",
   "metadata": {},
   "source": [
    "## Customer Transaction Columns"
   ]
  },
  {
   "cell_type": "code",
   "execution_count": 3,
   "id": "4251f4ef-df08-49b8-bec2-b018e59416d5",
   "metadata": {},
   "outputs": [
    {
     "name": "stdout",
     "output_type": "stream",
     "text": [
      "txn_id: object\n",
      "130653 elements with 62354 unique elements\n",
      "['TXN-24546' 'TXN-14642' 'TXN-60295' ... 'TXN-18396' 'TXN-43076'\n",
      " 'TXN-43065']\n",
      "--------------------------------------------------\n",
      "\n",
      "avail_date: object\n",
      "130653 elements with 9489 unique elements\n",
      "['2030-09-08' '2026-05-26' '2006-09-25' ... '2018-10-06' '2024-11-22'\n",
      " '2024-01-06']\n",
      "--------------------------------------------------\n",
      "\n",
      "last_name: object\n",
      "130653 elements with 2345 unique elements\n",
      "['ORTIZ' 'NIENOW' 'LESCH' ... 'Hamill' 'Stroman' 'Macejkovic']\n",
      "--------------------------------------------------\n",
      "\n",
      "first_name: object\n",
      "130653 elements with 14740 unique elements\n",
      "['EDUARDO' 'LEA' 'FLETA' ... 'Brandi' 'Jared' 'Santos']\n",
      "--------------------------------------------------\n",
      "\n",
      "birthday: object\n",
      "130653 elements with 7668 unique elements\n",
      "['1990-07-08' '2000-11-26' '1993-05-22' ... '2002-02-14' '1996-03-28'\n",
      " '1997-11-09']\n",
      "--------------------------------------------------\n",
      "\n"
     ]
    }
   ],
   "source": [
    "for i in ct.columns:\n",
    "    x = ct[i]\n",
    "    print(f'{i}: {x.dtype}')\n",
    "    print(f'{x.shape[0]} elements with {x.nunique()} unique elements')\n",
    "    print(x.unique())\n",
    "    print('--------------------------------------------------')\n",
    "    print()"
   ]
  },
  {
   "cell_type": "markdown",
   "id": "ac94d372-3b45-481c-8992-b9281c6b5ab6",
   "metadata": {},
   "source": [
    "## Error Scanning\r\n",
    "\r\n",
    "```\r\n",
    "TODO: find a way to apply a function to each series in a dataframe and to each element in a series\r\n",
    "```\r\n",
    "- That way we can actually do regex checking or type checking for possible incorrect\n",
    "- we can actually use the `apply()` method for `S`erie or ``DataFrame` object\n"
   ]
  },
  {
   "cell_type": "markdown",
   "id": "ebfb18ad-3700-4670-9ba8-ce519ded8330",
   "metadata": {},
   "source": [
    "#### Profiling inputs in `ct.txn_id`"
   ]
  },
  {
   "cell_type": "code",
   "execution_count": 4,
   "id": "a9ca50b3-28a4-40ed-ab0e-4bc7bd355612",
   "metadata": {},
   "outputs": [],
   "source": [
    "test = ct.copy()"
   ]
  },
  {
   "cell_type": "code",
   "execution_count": 5,
   "id": "60587fdd-9913-423a-acd4-bb42ddb68f8d",
   "metadata": {},
   "outputs": [
    {
     "data": {
      "text/html": [
       "<div>\n",
       "<style scoped>\n",
       "    .dataframe tbody tr th:only-of-type {\n",
       "        vertical-align: middle;\n",
       "    }\n",
       "\n",
       "    .dataframe tbody tr th {\n",
       "        vertical-align: top;\n",
       "    }\n",
       "\n",
       "    .dataframe thead th {\n",
       "        text-align: right;\n",
       "    }\n",
       "</style>\n",
       "<table border=\"1\" class=\"dataframe\">\n",
       "  <thead>\n",
       "    <tr style=\"text-align: right;\">\n",
       "      <th></th>\n",
       "      <th>txn_id</th>\n",
       "      <th>avail_date</th>\n",
       "      <th>last_name</th>\n",
       "      <th>first_name</th>\n",
       "      <th>birthday</th>\n",
       "    </tr>\n",
       "  </thead>\n",
       "  <tbody>\n",
       "    <tr>\n",
       "      <th>0</th>\n",
       "      <td>TXN-24546</td>\n",
       "      <td>2030-09-08</td>\n",
       "      <td>ORTIZ</td>\n",
       "      <td>EDUARDO</td>\n",
       "      <td>1990-07-08</td>\n",
       "    </tr>\n",
       "    <tr>\n",
       "      <th>1</th>\n",
       "      <td>TXN-14642</td>\n",
       "      <td>2026-05-26</td>\n",
       "      <td>NIENOW</td>\n",
       "      <td>LEA</td>\n",
       "      <td>2000-11-26</td>\n",
       "    </tr>\n",
       "    <tr>\n",
       "      <th>2</th>\n",
       "      <td>TXN-60295</td>\n",
       "      <td>2006-09-25</td>\n",
       "      <td>LESCH</td>\n",
       "      <td>FLETA</td>\n",
       "      <td>1993-05-22</td>\n",
       "    </tr>\n",
       "    <tr>\n",
       "      <th>3</th>\n",
       "      <td>TXN-60295</td>\n",
       "      <td>2006-09-25</td>\n",
       "      <td>LESCH</td>\n",
       "      <td>FLETA</td>\n",
       "      <td>1993-05-22</td>\n",
       "    </tr>\n",
       "    <tr>\n",
       "      <th>4</th>\n",
       "      <td>TXN-60295</td>\n",
       "      <td>2006-09-25</td>\n",
       "      <td>LESCH</td>\n",
       "      <td>FLETA</td>\n",
       "      <td>1993-05-22</td>\n",
       "    </tr>\n",
       "    <tr>\n",
       "      <th>...</th>\n",
       "      <td>...</td>\n",
       "      <td>...</td>\n",
       "      <td>...</td>\n",
       "      <td>...</td>\n",
       "      <td>...</td>\n",
       "    </tr>\n",
       "    <tr>\n",
       "      <th>130648</th>\n",
       "      <td>TXN-65468</td>\n",
       "      <td>2012-06-16</td>\n",
       "      <td>Cummings</td>\n",
       "      <td>Henry</td>\n",
       "      <td>2005-08-14</td>\n",
       "    </tr>\n",
       "    <tr>\n",
       "      <th>130649</th>\n",
       "      <td>TXN-60822</td>\n",
       "      <td>2020-09-28</td>\n",
       "      <td>Feil</td>\n",
       "      <td>Jermey</td>\n",
       "      <td>2010-06-15</td>\n",
       "    </tr>\n",
       "    <tr>\n",
       "      <th>130650</th>\n",
       "      <td>TXN-60822</td>\n",
       "      <td>2020-09-28</td>\n",
       "      <td>Feil</td>\n",
       "      <td>Jermey</td>\n",
       "      <td>2010-06-15</td>\n",
       "    </tr>\n",
       "    <tr>\n",
       "      <th>130651</th>\n",
       "      <td>TXN-01784</td>\n",
       "      <td>2015-01-11</td>\n",
       "      <td>Schmidt</td>\n",
       "      <td>Emilie</td>\n",
       "      <td>1996-05-21</td>\n",
       "    </tr>\n",
       "    <tr>\n",
       "      <th>130652</th>\n",
       "      <td>TXN-01784</td>\n",
       "      <td>2015-01-11</td>\n",
       "      <td>Schmidt</td>\n",
       "      <td>Emilie</td>\n",
       "      <td>1996-05-21</td>\n",
       "    </tr>\n",
       "  </tbody>\n",
       "</table>\n",
       "<p>130653 rows × 5 columns</p>\n",
       "</div>"
      ],
      "text/plain": [
       "           txn_id  avail_date last_name first_name    birthday\n",
       "0       TXN-24546  2030-09-08     ORTIZ    EDUARDO  1990-07-08\n",
       "1       TXN-14642  2026-05-26    NIENOW        LEA  2000-11-26\n",
       "2       TXN-60295  2006-09-25     LESCH      FLETA  1993-05-22\n",
       "3       TXN-60295  2006-09-25     LESCH      FLETA  1993-05-22\n",
       "4       TXN-60295  2006-09-25     LESCH      FLETA  1993-05-22\n",
       "...           ...         ...       ...        ...         ...\n",
       "130648  TXN-65468  2012-06-16  Cummings      Henry  2005-08-14\n",
       "130649  TXN-60822  2020-09-28      Feil     Jermey  2010-06-15\n",
       "130650  TXN-60822  2020-09-28      Feil     Jermey  2010-06-15\n",
       "130651  TXN-01784  2015-01-11   Schmidt     Emilie  1996-05-21\n",
       "130652  TXN-01784  2015-01-11   Schmidt     Emilie  1996-05-21\n",
       "\n",
       "[130653 rows x 5 columns]"
      ]
     },
     "execution_count": 5,
     "metadata": {},
     "output_type": "execute_result"
    }
   ],
   "source": [
    "test"
   ]
  },
  {
   "cell_type": "code",
   "execution_count": 6,
   "id": "c3f03701-6922-4e47-a506-d26e2311a366",
   "metadata": {},
   "outputs": [
    {
     "name": "stdout",
     "output_type": "stream",
     "text": [
      "Amount of null values in ct.txn_id: 0\n"
     ]
    }
   ],
   "source": [
    "nulls = test[test.txn_id.isna()].shape[0]\n",
    "print(f'Amount of null values in ct.txn_id: {nulls}')"
   ]
  },
  {
   "cell_type": "code",
   "execution_count": 7,
   "id": "6f85b888-e8ce-4b8b-9a55-5b2b6936f2e2",
   "metadata": {},
   "outputs": [
    {
     "name": "stdout",
     "output_type": "stream",
     "text": [
      "Valid token IDs: 130653/130653\n"
     ]
    }
   ],
   "source": [
    "if nulls == 0:\n",
    "    valids = test[test.txn_id.str.contains('TXN-[0-9]{5}')].shape[0]\n",
    "    print(f'Valid token IDs: {test.shape[0]}/{valids}')"
   ]
  },
  {
   "cell_type": "markdown",
   "id": "bfe4c538-5496-455c-8471-8dafd0dc7ff7",
   "metadata": {},
   "source": [
    "#### Profiling inputs in `ct.avail_date`"
   ]
  },
  {
   "cell_type": "code",
   "execution_count": 8,
   "id": "4f93ac14-20b1-43e9-8014-24dbbe6d3420",
   "metadata": {},
   "outputs": [
    {
     "data": {
      "text/html": [
       "<div>\n",
       "<style scoped>\n",
       "    .dataframe tbody tr th:only-of-type {\n",
       "        vertical-align: middle;\n",
       "    }\n",
       "\n",
       "    .dataframe tbody tr th {\n",
       "        vertical-align: top;\n",
       "    }\n",
       "\n",
       "    .dataframe thead th {\n",
       "        text-align: right;\n",
       "    }\n",
       "</style>\n",
       "<table border=\"1\" class=\"dataframe\">\n",
       "  <thead>\n",
       "    <tr style=\"text-align: right;\">\n",
       "      <th></th>\n",
       "      <th>txn_id</th>\n",
       "      <th>avail_date</th>\n",
       "      <th>last_name</th>\n",
       "      <th>first_name</th>\n",
       "      <th>birthday</th>\n",
       "    </tr>\n",
       "  </thead>\n",
       "  <tbody>\n",
       "    <tr>\n",
       "      <th>0</th>\n",
       "      <td>TXN-24546</td>\n",
       "      <td>2030-09-08</td>\n",
       "      <td>ORTIZ</td>\n",
       "      <td>EDUARDO</td>\n",
       "      <td>1990-07-08</td>\n",
       "    </tr>\n",
       "    <tr>\n",
       "      <th>1</th>\n",
       "      <td>TXN-14642</td>\n",
       "      <td>2026-05-26</td>\n",
       "      <td>NIENOW</td>\n",
       "      <td>LEA</td>\n",
       "      <td>2000-11-26</td>\n",
       "    </tr>\n",
       "    <tr>\n",
       "      <th>2</th>\n",
       "      <td>TXN-60295</td>\n",
       "      <td>2006-09-25</td>\n",
       "      <td>LESCH</td>\n",
       "      <td>FLETA</td>\n",
       "      <td>1993-05-22</td>\n",
       "    </tr>\n",
       "    <tr>\n",
       "      <th>3</th>\n",
       "      <td>TXN-60295</td>\n",
       "      <td>2006-09-25</td>\n",
       "      <td>LESCH</td>\n",
       "      <td>FLETA</td>\n",
       "      <td>1993-05-22</td>\n",
       "    </tr>\n",
       "    <tr>\n",
       "      <th>4</th>\n",
       "      <td>TXN-60295</td>\n",
       "      <td>2006-09-25</td>\n",
       "      <td>LESCH</td>\n",
       "      <td>FLETA</td>\n",
       "      <td>1993-05-22</td>\n",
       "    </tr>\n",
       "    <tr>\n",
       "      <th>...</th>\n",
       "      <td>...</td>\n",
       "      <td>...</td>\n",
       "      <td>...</td>\n",
       "      <td>...</td>\n",
       "      <td>...</td>\n",
       "    </tr>\n",
       "    <tr>\n",
       "      <th>130648</th>\n",
       "      <td>TXN-65468</td>\n",
       "      <td>2012-06-16</td>\n",
       "      <td>Cummings</td>\n",
       "      <td>Henry</td>\n",
       "      <td>2005-08-14</td>\n",
       "    </tr>\n",
       "    <tr>\n",
       "      <th>130649</th>\n",
       "      <td>TXN-60822</td>\n",
       "      <td>2020-09-28</td>\n",
       "      <td>Feil</td>\n",
       "      <td>Jermey</td>\n",
       "      <td>2010-06-15</td>\n",
       "    </tr>\n",
       "    <tr>\n",
       "      <th>130650</th>\n",
       "      <td>TXN-60822</td>\n",
       "      <td>2020-09-28</td>\n",
       "      <td>Feil</td>\n",
       "      <td>Jermey</td>\n",
       "      <td>2010-06-15</td>\n",
       "    </tr>\n",
       "    <tr>\n",
       "      <th>130651</th>\n",
       "      <td>TXN-01784</td>\n",
       "      <td>2015-01-11</td>\n",
       "      <td>Schmidt</td>\n",
       "      <td>Emilie</td>\n",
       "      <td>1996-05-21</td>\n",
       "    </tr>\n",
       "    <tr>\n",
       "      <th>130652</th>\n",
       "      <td>TXN-01784</td>\n",
       "      <td>2015-01-11</td>\n",
       "      <td>Schmidt</td>\n",
       "      <td>Emilie</td>\n",
       "      <td>1996-05-21</td>\n",
       "    </tr>\n",
       "  </tbody>\n",
       "</table>\n",
       "<p>130653 rows × 5 columns</p>\n",
       "</div>"
      ],
      "text/plain": [
       "           txn_id  avail_date last_name first_name    birthday\n",
       "0       TXN-24546  2030-09-08     ORTIZ    EDUARDO  1990-07-08\n",
       "1       TXN-14642  2026-05-26    NIENOW        LEA  2000-11-26\n",
       "2       TXN-60295  2006-09-25     LESCH      FLETA  1993-05-22\n",
       "3       TXN-60295  2006-09-25     LESCH      FLETA  1993-05-22\n",
       "4       TXN-60295  2006-09-25     LESCH      FLETA  1993-05-22\n",
       "...           ...         ...       ...        ...         ...\n",
       "130648  TXN-65468  2012-06-16  Cummings      Henry  2005-08-14\n",
       "130649  TXN-60822  2020-09-28      Feil     Jermey  2010-06-15\n",
       "130650  TXN-60822  2020-09-28      Feil     Jermey  2010-06-15\n",
       "130651  TXN-01784  2015-01-11   Schmidt     Emilie  1996-05-21\n",
       "130652  TXN-01784  2015-01-11   Schmidt     Emilie  1996-05-21\n",
       "\n",
       "[130653 rows x 5 columns]"
      ]
     },
     "execution_count": 8,
     "metadata": {},
     "output_type": "execute_result"
    }
   ],
   "source": [
    "test = ct.copy()\n",
    "test"
   ]
  },
  {
   "cell_type": "code",
   "execution_count": 9,
   "id": "3980c5ff-cbe7-4798-9e23-6808037ba6f5",
   "metadata": {},
   "outputs": [
    {
     "name": "stdout",
     "output_type": "stream",
     "text": [
      "Null values in ct.avail_date: 0\n"
     ]
    }
   ],
   "source": [
    "nulls = test[test.avail_date.isna()].shape[0]\n",
    "print(f'Null values in ct.avail_date: {nulls}')"
   ]
  },
  {
   "cell_type": "code",
   "execution_count": 10,
   "id": "cb8f00d5-2e55-4265-b4f4-6a86263a0bc5",
   "metadata": {},
   "outputs": [
    {
     "name": "stdout",
     "output_type": "stream",
     "text": [
      "Valid date format: 130653/130653\n"
     ]
    }
   ],
   "source": [
    "if nulls == 0:\n",
    "    valids = test[test.avail_date.str.fullmatch('[0-9]{4}-(0[0-9]|1[0-2])-([0-2][0-9]|[3][0-1])')].shape[0]\n",
    "    print(f'Valid date format: {test.shape[0]}/{valids}')"
   ]
  },
  {
   "cell_type": "markdown",
   "id": "a2143a61-ae3d-454a-93f1-ceb8107b2583",
   "metadata": {},
   "source": [
    "#### Profiling inputs in `ct.last_name`"
   ]
  },
  {
   "cell_type": "code",
   "execution_count": 11,
   "id": "ffccb083-29b1-4a28-ba96-7ea69b780d06",
   "metadata": {},
   "outputs": [],
   "source": [
    "test = ct.copy()"
   ]
  },
  {
   "cell_type": "code",
   "execution_count": 12,
   "id": "08a18312-b1cd-4f04-bc02-9516028ecde0",
   "metadata": {},
   "outputs": [
    {
     "data": {
      "text/plain": [
       "(130653,)"
      ]
     },
     "execution_count": 12,
     "metadata": {},
     "output_type": "execute_result"
    }
   ],
   "source": [
    "test.last_name.shape"
   ]
  },
  {
   "cell_type": "code",
   "execution_count": 13,
   "id": "1520551b-5549-4614-9112-348cf2a87d33",
   "metadata": {},
   "outputs": [
    {
     "name": "stdout",
     "output_type": "stream",
     "text": [
      "Null values in ct.last_name: 0\n"
     ]
    }
   ],
   "source": [
    "nulls = test[test.last_name.isna()].shape[0]\n",
    "print(f'Null values in ct.last_name: {nulls}')"
   ]
  },
  {
   "cell_type": "code",
   "execution_count": 14,
   "id": "e14e2322-5ea5-4167-a990-43a8911c7b84",
   "metadata": {},
   "outputs": [
    {
     "data": {
      "text/html": [
       "<div>\n",
       "<style scoped>\n",
       "    .dataframe tbody tr th:only-of-type {\n",
       "        vertical-align: middle;\n",
       "    }\n",
       "\n",
       "    .dataframe tbody tr th {\n",
       "        vertical-align: top;\n",
       "    }\n",
       "\n",
       "    .dataframe thead th {\n",
       "        text-align: right;\n",
       "    }\n",
       "</style>\n",
       "<table border=\"1\" class=\"dataframe\">\n",
       "  <thead>\n",
       "    <tr style=\"text-align: right;\">\n",
       "      <th></th>\n",
       "      <th>txn_id</th>\n",
       "      <th>avail_date</th>\n",
       "      <th>last_name</th>\n",
       "      <th>first_name</th>\n",
       "      <th>birthday</th>\n",
       "    </tr>\n",
       "  </thead>\n",
       "  <tbody>\n",
       "    <tr>\n",
       "      <th>40000</th>\n",
       "      <td>TXN-49846</td>\n",
       "      <td>2026-06-24</td>\n",
       "      <td>Harvey</td>\n",
       "      <td>Jaydon</td>\n",
       "      <td>2009-03-04</td>\n",
       "    </tr>\n",
       "    <tr>\n",
       "      <th>40001</th>\n",
       "      <td>TXN-49846</td>\n",
       "      <td>2026-06-24</td>\n",
       "      <td>Harvey</td>\n",
       "      <td>Jaydon</td>\n",
       "      <td>2009-03-04</td>\n",
       "    </tr>\n",
       "    <tr>\n",
       "      <th>40002</th>\n",
       "      <td>TXN-09756</td>\n",
       "      <td>2006-06-21</td>\n",
       "      <td>Murray</td>\n",
       "      <td>Gisselle</td>\n",
       "      <td>2006-03-10</td>\n",
       "    </tr>\n",
       "    <tr>\n",
       "      <th>40003</th>\n",
       "      <td>TXN-09756</td>\n",
       "      <td>2006-06-21</td>\n",
       "      <td>Murray</td>\n",
       "      <td>Gisselle</td>\n",
       "      <td>2006-03-10</td>\n",
       "    </tr>\n",
       "    <tr>\n",
       "      <th>40004</th>\n",
       "      <td>TXN-09756</td>\n",
       "      <td>2006-06-21</td>\n",
       "      <td>Murray</td>\n",
       "      <td>Gisselle</td>\n",
       "      <td>2006-03-10</td>\n",
       "    </tr>\n",
       "    <tr>\n",
       "      <th>...</th>\n",
       "      <td>...</td>\n",
       "      <td>...</td>\n",
       "      <td>...</td>\n",
       "      <td>...</td>\n",
       "      <td>...</td>\n",
       "    </tr>\n",
       "    <tr>\n",
       "      <th>79995</th>\n",
       "      <td>TXN-54391</td>\n",
       "      <td>2028-10-31</td>\n",
       "      <td>Johns,,,,,,,,</td>\n",
       "      <td>Turner........</td>\n",
       "      <td>2010-04-16</td>\n",
       "    </tr>\n",
       "    <tr>\n",
       "      <th>79996</th>\n",
       "      <td>TXN-54391</td>\n",
       "      <td>2028-10-31</td>\n",
       "      <td>Johns,,,,,,,,</td>\n",
       "      <td>Turner........</td>\n",
       "      <td>2010-04-16</td>\n",
       "    </tr>\n",
       "    <tr>\n",
       "      <th>79997</th>\n",
       "      <td>TXN-54391</td>\n",
       "      <td>2028-10-31</td>\n",
       "      <td>Johns,,,,,,,,</td>\n",
       "      <td>Turner........</td>\n",
       "      <td>2010-04-16</td>\n",
       "    </tr>\n",
       "    <tr>\n",
       "      <th>79998</th>\n",
       "      <td>TXN-54391</td>\n",
       "      <td>2028-10-31</td>\n",
       "      <td>Johns,,,,,,,,</td>\n",
       "      <td>Turner........</td>\n",
       "      <td>2010-04-16</td>\n",
       "    </tr>\n",
       "    <tr>\n",
       "      <th>79999</th>\n",
       "      <td>TXN-54391</td>\n",
       "      <td>2028-10-31</td>\n",
       "      <td>Johns,,,,,,,,</td>\n",
       "      <td>Turner........</td>\n",
       "      <td>2010-04-16</td>\n",
       "    </tr>\n",
       "  </tbody>\n",
       "</table>\n",
       "<p>40000 rows × 5 columns</p>\n",
       "</div>"
      ],
      "text/plain": [
       "          txn_id  avail_date       last_name        first_name    birthday\n",
       "40000  TXN-49846  2026-06-24          Harvey            Jaydon  2009-03-04\n",
       "40001  TXN-49846  2026-06-24          Harvey            Jaydon  2009-03-04\n",
       "40002  TXN-09756  2006-06-21          Murray          Gisselle  2006-03-10\n",
       "40003  TXN-09756  2006-06-21          Murray          Gisselle  2006-03-10\n",
       "40004  TXN-09756  2006-06-21          Murray          Gisselle  2006-03-10\n",
       "...          ...         ...             ...               ...         ...\n",
       "79995  TXN-54391  2028-10-31   Johns,,,,,,,,    Turner........  2010-04-16\n",
       "79996  TXN-54391  2028-10-31   Johns,,,,,,,,    Turner........  2010-04-16\n",
       "79997  TXN-54391  2028-10-31   Johns,,,,,,,,    Turner........  2010-04-16\n",
       "79998  TXN-54391  2028-10-31   Johns,,,,,,,,    Turner........  2010-04-16\n",
       "79999  TXN-54391  2028-10-31   Johns,,,,,,,,    Turner........  2010-04-16\n",
       "\n",
       "[40000 rows x 5 columns]"
      ]
     },
     "execution_count": 14,
     "metadata": {},
     "output_type": "execute_result"
    }
   ],
   "source": [
    "test[test.last_name.str.contains('[^a-zA-Z]+')]"
   ]
  },
  {
   "cell_type": "markdown",
   "id": "27de3179-5b8c-4bca-8236-3376a720a2b8",
   "metadata": {},
   "source": [
    "#### Profiling inputs in `ct.first_name`"
   ]
  },
  {
   "cell_type": "code",
   "execution_count": 15,
   "id": "cd42186f-0e26-4d53-9754-f6a5567867b6",
   "metadata": {},
   "outputs": [],
   "source": [
    "test = ct.copy()"
   ]
  },
  {
   "cell_type": "code",
   "execution_count": 16,
   "id": "2b051bf2-b6b9-4e01-bab2-77519ec4b228",
   "metadata": {},
   "outputs": [
    {
     "data": {
      "text/plain": [
       "(130653,)"
      ]
     },
     "execution_count": 16,
     "metadata": {},
     "output_type": "execute_result"
    }
   ],
   "source": [
    "test.first_name.shape"
   ]
  },
  {
   "cell_type": "code",
   "execution_count": 17,
   "id": "3e0fa254-b91d-4fa6-8c22-29a9810ce196",
   "metadata": {},
   "outputs": [
    {
     "name": "stdout",
     "output_type": "stream",
     "text": [
      "Null values in ct.first_name: 0\n"
     ]
    }
   ],
   "source": [
    "nulls = test[test.first_name.isna()].shape[0]\n",
    "print(f'Null values in ct.first_name: {nulls}')"
   ]
  },
  {
   "cell_type": "code",
   "execution_count": 18,
   "id": "110b1639-7a52-4f2c-988d-fcc2ecc3412a",
   "metadata": {},
   "outputs": [
    {
     "data": {
      "text/html": [
       "<div>\n",
       "<style scoped>\n",
       "    .dataframe tbody tr th:only-of-type {\n",
       "        vertical-align: middle;\n",
       "    }\n",
       "\n",
       "    .dataframe tbody tr th {\n",
       "        vertical-align: top;\n",
       "    }\n",
       "\n",
       "    .dataframe thead th {\n",
       "        text-align: right;\n",
       "    }\n",
       "</style>\n",
       "<table border=\"1\" class=\"dataframe\">\n",
       "  <thead>\n",
       "    <tr style=\"text-align: right;\">\n",
       "      <th></th>\n",
       "      <th>txn_id</th>\n",
       "      <th>avail_date</th>\n",
       "      <th>last_name</th>\n",
       "      <th>first_name</th>\n",
       "      <th>birthday</th>\n",
       "    </tr>\n",
       "  </thead>\n",
       "  <tbody>\n",
       "    <tr>\n",
       "      <th>0</th>\n",
       "      <td>TXN-24546</td>\n",
       "      <td>2030-09-08</td>\n",
       "      <td>ORTIZ</td>\n",
       "      <td>EDUARDO</td>\n",
       "      <td>1990-07-08</td>\n",
       "    </tr>\n",
       "    <tr>\n",
       "      <th>1</th>\n",
       "      <td>TXN-14642</td>\n",
       "      <td>2026-05-26</td>\n",
       "      <td>NIENOW</td>\n",
       "      <td>LEA</td>\n",
       "      <td>2000-11-26</td>\n",
       "    </tr>\n",
       "    <tr>\n",
       "      <th>2</th>\n",
       "      <td>TXN-60295</td>\n",
       "      <td>2006-09-25</td>\n",
       "      <td>LESCH</td>\n",
       "      <td>FLETA</td>\n",
       "      <td>1993-05-22</td>\n",
       "    </tr>\n",
       "    <tr>\n",
       "      <th>3</th>\n",
       "      <td>TXN-60295</td>\n",
       "      <td>2006-09-25</td>\n",
       "      <td>LESCH</td>\n",
       "      <td>FLETA</td>\n",
       "      <td>1993-05-22</td>\n",
       "    </tr>\n",
       "    <tr>\n",
       "      <th>4</th>\n",
       "      <td>TXN-60295</td>\n",
       "      <td>2006-09-25</td>\n",
       "      <td>LESCH</td>\n",
       "      <td>FLETA</td>\n",
       "      <td>1993-05-22</td>\n",
       "    </tr>\n",
       "    <tr>\n",
       "      <th>...</th>\n",
       "      <td>...</td>\n",
       "      <td>...</td>\n",
       "      <td>...</td>\n",
       "      <td>...</td>\n",
       "      <td>...</td>\n",
       "    </tr>\n",
       "    <tr>\n",
       "      <th>130648</th>\n",
       "      <td>TXN-65468</td>\n",
       "      <td>2012-06-16</td>\n",
       "      <td>Cummings</td>\n",
       "      <td>Henry</td>\n",
       "      <td>2005-08-14</td>\n",
       "    </tr>\n",
       "    <tr>\n",
       "      <th>130649</th>\n",
       "      <td>TXN-60822</td>\n",
       "      <td>2020-09-28</td>\n",
       "      <td>Feil</td>\n",
       "      <td>Jermey</td>\n",
       "      <td>2010-06-15</td>\n",
       "    </tr>\n",
       "    <tr>\n",
       "      <th>130650</th>\n",
       "      <td>TXN-60822</td>\n",
       "      <td>2020-09-28</td>\n",
       "      <td>Feil</td>\n",
       "      <td>Jermey</td>\n",
       "      <td>2010-06-15</td>\n",
       "    </tr>\n",
       "    <tr>\n",
       "      <th>130651</th>\n",
       "      <td>TXN-01784</td>\n",
       "      <td>2015-01-11</td>\n",
       "      <td>Schmidt</td>\n",
       "      <td>Emilie</td>\n",
       "      <td>1996-05-21</td>\n",
       "    </tr>\n",
       "    <tr>\n",
       "      <th>130652</th>\n",
       "      <td>TXN-01784</td>\n",
       "      <td>2015-01-11</td>\n",
       "      <td>Schmidt</td>\n",
       "      <td>Emilie</td>\n",
       "      <td>1996-05-21</td>\n",
       "    </tr>\n",
       "  </tbody>\n",
       "</table>\n",
       "<p>130653 rows × 5 columns</p>\n",
       "</div>"
      ],
      "text/plain": [
       "           txn_id  avail_date last_name first_name    birthday\n",
       "0       TXN-24546  2030-09-08     ORTIZ    EDUARDO  1990-07-08\n",
       "1       TXN-14642  2026-05-26    NIENOW        LEA  2000-11-26\n",
       "2       TXN-60295  2006-09-25     LESCH      FLETA  1993-05-22\n",
       "3       TXN-60295  2006-09-25     LESCH      FLETA  1993-05-22\n",
       "4       TXN-60295  2006-09-25     LESCH      FLETA  1993-05-22\n",
       "...           ...         ...       ...        ...         ...\n",
       "130648  TXN-65468  2012-06-16  Cummings      Henry  2005-08-14\n",
       "130649  TXN-60822  2020-09-28      Feil     Jermey  2010-06-15\n",
       "130650  TXN-60822  2020-09-28      Feil     Jermey  2010-06-15\n",
       "130651  TXN-01784  2015-01-11   Schmidt     Emilie  1996-05-21\n",
       "130652  TXN-01784  2015-01-11   Schmidt     Emilie  1996-05-21\n",
       "\n",
       "[130653 rows x 5 columns]"
      ]
     },
     "execution_count": 18,
     "metadata": {},
     "output_type": "execute_result"
    }
   ],
   "source": [
    "test[test.first_name.str.contains('[a-zA-Z]+')]"
   ]
  },
  {
   "cell_type": "markdown",
   "id": "c4eba09c-fabe-482d-9876-159f05cfb0fd",
   "metadata": {},
   "source": [
    "#### Profiling inputs in `ct.birthday`"
   ]
  },
  {
   "cell_type": "code",
   "execution_count": 19,
   "id": "724bce4d-0c21-491c-906a-1221a2162e13",
   "metadata": {},
   "outputs": [],
   "source": [
    "test = ct.copy()"
   ]
  },
  {
   "cell_type": "code",
   "execution_count": 20,
   "id": "0750c93b-ee95-4ea6-a696-bdd0b1c851f6",
   "metadata": {},
   "outputs": [
    {
     "name": "stdout",
     "output_type": "stream",
     "text": [
      "Null values in ct.birthday: 0\n"
     ]
    }
   ],
   "source": [
    "nulls = test[test.birthday.isna()].shape[0]\n",
    "print(f'Null values in ct.birthday: {nulls}')"
   ]
  },
  {
   "cell_type": "code",
   "execution_count": 21,
   "id": "03a9756b-74ff-4500-a168-8485632fae2c",
   "metadata": {},
   "outputs": [
    {
     "name": "stdout",
     "output_type": "stream",
     "text": [
      "Valid date format: 130653/130653\n"
     ]
    }
   ],
   "source": [
    "if nulls == 0:\n",
    "    valids = test[test.birthday.str.fullmatch('[0-9]{4}-(0[0-9]|1[0-2])-([0-2][0-9]|[3][0-1])')].shape[0]\n",
    "    print(f'Valid date format: {valids}/{test.shape[0]}')"
   ]
  },
  {
   "cell_type": "code",
   "execution_count": 22,
   "id": "27dd5308-d3ec-4299-b3a8-062a7c10bb14",
   "metadata": {},
   "outputs": [],
   "source": [
    "test.birthday = pd.to_datetime(test.birthday)"
   ]
  },
  {
   "cell_type": "code",
   "execution_count": 23,
   "id": "1604f10e-892b-4091-a692-cf515fe8ebad",
   "metadata": {},
   "outputs": [
    {
     "name": "stdout",
     "output_type": "stream",
     "text": [
      "invalid birthdays: 0\n"
     ]
    }
   ],
   "source": [
    "print(f'invalid birthdays: {test[test.birthday > pd.Timestamp.today()].shape[0]}')"
   ]
  },
  {
   "cell_type": "markdown",
   "id": "d3c2cf09-1bc2-466d-92e5-dace18f131e3",
   "metadata": {},
   "source": [
    "## Branch Service Transaction Columns"
   ]
  },
  {
   "cell_type": "code",
   "execution_count": 24,
   "id": "e0b53b85-0aa7-4efe-842f-0d753e876751",
   "metadata": {},
   "outputs": [
    {
     "name": "stdout",
     "output_type": "stream",
     "text": [
      "txn_id: object\n",
      "130653 elements with 62354 unique elements\n",
      "['TXN-24546' 'TXN-14642' 'TXN-60295' ... 'TXN-18396' 'TXN-43076'\n",
      " 'TXN-43065']\n",
      "--------------------------------------------------\n",
      "\n",
      "branch_name: object\n",
      "130653 elements with 9 unique elements\n",
      "['MallOfAsia' 'Starmall' 'SmallMall' 'MayMall' 'FrankMall' 'Megamall'\n",
      " 'RobinsonsMall' '' None 'N/A']\n",
      "--------------------------------------------------\n",
      "\n",
      "service: object\n",
      "130653 elements with 7 unique elements\n",
      "['Manicure' 'HairColor' 'FootSpa' 'Rebond' 'Haircut' 'NailColor'\n",
      " 'Pedicure']\n",
      "--------------------------------------------------\n",
      "\n",
      "price: float64\n",
      "130653 elements with 8 unique elements\n",
      "[         nan   0.          30.1237897   66.12345678  77.987989\n",
      " 100.12123    400.23123     55.2324      88.09393   ]\n",
      "--------------------------------------------------\n",
      "\n"
     ]
    }
   ],
   "source": [
    "for i in bs.columns:\n",
    "    x = bs[i]\n",
    "    print(f'{i}: {x.dtype}')\n",
    "    print(f'{x.shape[0]} elements with {x.nunique()} unique elements')\n",
    "    print(x.unique())\n",
    "    print('--------------------------------------------------')\n",
    "    print()"
   ]
  },
  {
   "cell_type": "markdown",
   "id": "6c148d61-6f09-4a48-91ee-957d28645aa6",
   "metadata": {},
   "source": [
    "#### Profiling `bs.txn_id`"
   ]
  },
  {
   "cell_type": "code",
   "execution_count": 25,
   "id": "aa4b280d-a40b-4b0a-807e-7645e3261f09",
   "metadata": {},
   "outputs": [],
   "source": [
    "test = bs.copy()"
   ]
  },
  {
   "cell_type": "code",
   "execution_count": 26,
   "id": "a741e583-e022-4b25-8476-0ed95d316fcd",
   "metadata": {},
   "outputs": [
    {
     "data": {
      "text/html": [
       "<div>\n",
       "<style scoped>\n",
       "    .dataframe tbody tr th:only-of-type {\n",
       "        vertical-align: middle;\n",
       "    }\n",
       "\n",
       "    .dataframe tbody tr th {\n",
       "        vertical-align: top;\n",
       "    }\n",
       "\n",
       "    .dataframe thead th {\n",
       "        text-align: right;\n",
       "    }\n",
       "</style>\n",
       "<table border=\"1\" class=\"dataframe\">\n",
       "  <thead>\n",
       "    <tr style=\"text-align: right;\">\n",
       "      <th></th>\n",
       "      <th>txn_id</th>\n",
       "      <th>branch_name</th>\n",
       "      <th>service</th>\n",
       "      <th>price</th>\n",
       "    </tr>\n",
       "  </thead>\n",
       "  <tbody>\n",
       "    <tr>\n",
       "      <th>0</th>\n",
       "      <td>TXN-24546</td>\n",
       "      <td>MallOfAsia</td>\n",
       "      <td>Manicure</td>\n",
       "      <td>NaN</td>\n",
       "    </tr>\n",
       "    <tr>\n",
       "      <th>1</th>\n",
       "      <td>TXN-14642</td>\n",
       "      <td>Starmall</td>\n",
       "      <td>HairColor</td>\n",
       "      <td>NaN</td>\n",
       "    </tr>\n",
       "    <tr>\n",
       "      <th>2</th>\n",
       "      <td>TXN-60295</td>\n",
       "      <td>SmallMall</td>\n",
       "      <td>FootSpa</td>\n",
       "      <td>NaN</td>\n",
       "    </tr>\n",
       "    <tr>\n",
       "      <th>3</th>\n",
       "      <td>TXN-60295</td>\n",
       "      <td>Starmall</td>\n",
       "      <td>FootSpa</td>\n",
       "      <td>NaN</td>\n",
       "    </tr>\n",
       "    <tr>\n",
       "      <th>4</th>\n",
       "      <td>TXN-60295</td>\n",
       "      <td>MayMall</td>\n",
       "      <td>FootSpa</td>\n",
       "      <td>NaN</td>\n",
       "    </tr>\n",
       "    <tr>\n",
       "      <th>...</th>\n",
       "      <td>...</td>\n",
       "      <td>...</td>\n",
       "      <td>...</td>\n",
       "      <td>...</td>\n",
       "    </tr>\n",
       "    <tr>\n",
       "      <th>130648</th>\n",
       "      <td>TXN-65468</td>\n",
       "      <td>MallOfAsia</td>\n",
       "      <td>Haircut</td>\n",
       "      <td>66.123457</td>\n",
       "    </tr>\n",
       "    <tr>\n",
       "      <th>130649</th>\n",
       "      <td>TXN-60822</td>\n",
       "      <td>MallOfAsia</td>\n",
       "      <td>Rebond</td>\n",
       "      <td>400.231230</td>\n",
       "    </tr>\n",
       "    <tr>\n",
       "      <th>130650</th>\n",
       "      <td>TXN-60822</td>\n",
       "      <td>FrankMall</td>\n",
       "      <td>Rebond</td>\n",
       "      <td>400.231230</td>\n",
       "    </tr>\n",
       "    <tr>\n",
       "      <th>130651</th>\n",
       "      <td>TXN-01784</td>\n",
       "      <td>RobinsonsMall</td>\n",
       "      <td>HairColor</td>\n",
       "      <td>88.093930</td>\n",
       "    </tr>\n",
       "    <tr>\n",
       "      <th>130652</th>\n",
       "      <td>TXN-01784</td>\n",
       "      <td>MallOfAsia</td>\n",
       "      <td>HairColor</td>\n",
       "      <td>88.093930</td>\n",
       "    </tr>\n",
       "  </tbody>\n",
       "</table>\n",
       "<p>130653 rows × 4 columns</p>\n",
       "</div>"
      ],
      "text/plain": [
       "           txn_id    branch_name    service       price\n",
       "0       TXN-24546     MallOfAsia   Manicure         NaN\n",
       "1       TXN-14642       Starmall  HairColor         NaN\n",
       "2       TXN-60295      SmallMall    FootSpa         NaN\n",
       "3       TXN-60295       Starmall    FootSpa         NaN\n",
       "4       TXN-60295        MayMall    FootSpa         NaN\n",
       "...           ...            ...        ...         ...\n",
       "130648  TXN-65468     MallOfAsia    Haircut   66.123457\n",
       "130649  TXN-60822     MallOfAsia     Rebond  400.231230\n",
       "130650  TXN-60822      FrankMall     Rebond  400.231230\n",
       "130651  TXN-01784  RobinsonsMall  HairColor   88.093930\n",
       "130652  TXN-01784     MallOfAsia  HairColor   88.093930\n",
       "\n",
       "[130653 rows x 4 columns]"
      ]
     },
     "execution_count": 26,
     "metadata": {},
     "output_type": "execute_result"
    }
   ],
   "source": [
    "test"
   ]
  },
  {
   "cell_type": "code",
   "execution_count": 27,
   "id": "23fa148b-cb40-4bd7-9319-95aadd2aaba5",
   "metadata": {},
   "outputs": [
    {
     "name": "stdout",
     "output_type": "stream",
     "text": [
      "Amount of null values in bs.txn_id: 0\n"
     ]
    }
   ],
   "source": [
    "nulls = test[test.txn_id.isna()].shape[0]\n",
    "print(f'Amount of null values in bs.txn_id: {nulls}')"
   ]
  },
  {
   "cell_type": "code",
   "execution_count": 28,
   "id": "446d52c2-a297-4d80-a986-18b107eeef43",
   "metadata": {},
   "outputs": [
    {
     "name": "stdout",
     "output_type": "stream",
     "text": [
      "Valid token IDs: 130653/130653\n"
     ]
    }
   ],
   "source": [
    "if nulls == 0:\n",
    "    valids = test[test.txn_id.str.fullmatch('TXN-[0-9]{5}')].shape[0]\n",
    "    print(f'Valid token IDs: {valids}/{test.shape[0]}')"
   ]
  }
 ],
 "metadata": {
  "kernelspec": {
   "display_name": "Python 3 (ipykernel)",
   "language": "python",
   "name": "python3"
  },
  "language_info": {
   "codemirror_mode": {
    "name": "ipython",
    "version": 3
   },
   "file_extension": ".py",
   "mimetype": "text/x-python",
   "name": "python",
   "nbconvert_exporter": "python",
   "pygments_lexer": "ipython3",
   "version": "3.12.0"
  }
 },
 "nbformat": 4,
 "nbformat_minor": 5
}
