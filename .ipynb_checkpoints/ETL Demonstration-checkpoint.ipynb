{
 "cells": [
  {
   "cell_type": "code",
   "execution_count": 2,
   "id": "23b7fe4e-1f3d-4e20-b53b-2774fea2ed91",
   "metadata": {},
   "outputs": [],
   "source": [
    "import pandas as pd\n",
    "import numpy as np"
   ]
  },
  {
   "cell_type": "markdown",
   "id": "7c8510dd-5c59-4d99-a4e3-a3130fac84d1",
   "metadata": {},
   "source": [
    "# Loading the Data\n"
   ]
  },
  {
   "cell_type": "code",
   "execution_count": 27,
   "id": "fa4e0b19-9c56-4b4e-ad24-c21b20fa8f02",
   "metadata": {},
   "outputs": [],
   "source": [
    "bs = pd.read_json(\"branch_service_transaction_info.json\")\n",
    "ct = pd.read_json(\"customer_transaction_info.json\")"
   ]
  },
  {
   "cell_type": "markdown",
   "id": "24d44a0f-ffe0-4f06-a569-d87ab4477af9",
   "metadata": {},
   "source": [
    "# Profiling the Data"
   ]
  },
  {
   "cell_type": "code",
   "execution_count": 9,
   "id": "16e9f835-d875-44fb-b353-c8020ca8634e",
   "metadata": {},
   "outputs": [
    {
     "data": {
      "text/html": [
       "<div>\n",
       "<style scoped>\n",
       "    .dataframe tbody tr th:only-of-type {\n",
       "        vertical-align: middle;\n",
       "    }\n",
       "\n",
       "    .dataframe tbody tr th {\n",
       "        vertical-align: top;\n",
       "    }\n",
       "\n",
       "    .dataframe thead th {\n",
       "        text-align: right;\n",
       "    }\n",
       "</style>\n",
       "<table border=\"1\" class=\"dataframe\">\n",
       "  <thead>\n",
       "    <tr style=\"text-align: right;\">\n",
       "      <th></th>\n",
       "      <th>txn_id</th>\n",
       "      <th>branch_name</th>\n",
       "      <th>service</th>\n",
       "      <th>price</th>\n",
       "    </tr>\n",
       "  </thead>\n",
       "  <tbody>\n",
       "    <tr>\n",
       "      <th>0</th>\n",
       "      <td>TXN-24546</td>\n",
       "      <td>MallOfAsia</td>\n",
       "      <td>Manicure</td>\n",
       "      <td>NaN</td>\n",
       "    </tr>\n",
       "    <tr>\n",
       "      <th>1</th>\n",
       "      <td>TXN-14642</td>\n",
       "      <td>Starmall</td>\n",
       "      <td>HairColor</td>\n",
       "      <td>NaN</td>\n",
       "    </tr>\n",
       "    <tr>\n",
       "      <th>2</th>\n",
       "      <td>TXN-60295</td>\n",
       "      <td>SmallMall</td>\n",
       "      <td>FootSpa</td>\n",
       "      <td>NaN</td>\n",
       "    </tr>\n",
       "    <tr>\n",
       "      <th>3</th>\n",
       "      <td>TXN-60295</td>\n",
       "      <td>Starmall</td>\n",
       "      <td>FootSpa</td>\n",
       "      <td>NaN</td>\n",
       "    </tr>\n",
       "    <tr>\n",
       "      <th>4</th>\n",
       "      <td>TXN-60295</td>\n",
       "      <td>MayMall</td>\n",
       "      <td>FootSpa</td>\n",
       "      <td>NaN</td>\n",
       "    </tr>\n",
       "    <tr>\n",
       "      <th>5</th>\n",
       "      <td>TXN-60295</td>\n",
       "      <td>FrankMall</td>\n",
       "      <td>FootSpa</td>\n",
       "      <td>NaN</td>\n",
       "    </tr>\n",
       "    <tr>\n",
       "      <th>6</th>\n",
       "      <td>TXN-40462</td>\n",
       "      <td>Starmall</td>\n",
       "      <td>HairColor</td>\n",
       "      <td>NaN</td>\n",
       "    </tr>\n",
       "    <tr>\n",
       "      <th>7</th>\n",
       "      <td>TXN-40462</td>\n",
       "      <td>Megamall</td>\n",
       "      <td>HairColor</td>\n",
       "      <td>NaN</td>\n",
       "    </tr>\n",
       "    <tr>\n",
       "      <th>8</th>\n",
       "      <td>TXN-08102</td>\n",
       "      <td>RobinsonsMall</td>\n",
       "      <td>HairColor</td>\n",
       "      <td>NaN</td>\n",
       "    </tr>\n",
       "    <tr>\n",
       "      <th>9</th>\n",
       "      <td>TXN-08102</td>\n",
       "      <td>SmallMall</td>\n",
       "      <td>HairColor</td>\n",
       "      <td>NaN</td>\n",
       "    </tr>\n",
       "  </tbody>\n",
       "</table>\n",
       "</div>"
      ],
      "text/plain": [
       "      txn_id    branch_name    service  price\n",
       "0  TXN-24546     MallOfAsia   Manicure    NaN\n",
       "1  TXN-14642       Starmall  HairColor    NaN\n",
       "2  TXN-60295      SmallMall    FootSpa    NaN\n",
       "3  TXN-60295       Starmall    FootSpa    NaN\n",
       "4  TXN-60295        MayMall    FootSpa    NaN\n",
       "5  TXN-60295      FrankMall    FootSpa    NaN\n",
       "6  TXN-40462       Starmall  HairColor    NaN\n",
       "7  TXN-40462       Megamall  HairColor    NaN\n",
       "8  TXN-08102  RobinsonsMall  HairColor    NaN\n",
       "9  TXN-08102      SmallMall  HairColor    NaN"
      ]
     },
     "execution_count": 9,
     "metadata": {},
     "output_type": "execute_result"
    }
   ],
   "source": [
    "bs.head(10) # view the first x records of the DataFrame"
   ]
  },
  {
   "cell_type": "code",
   "execution_count": 10,
   "id": "980db881-ff48-44e2-b3c2-a3714ef7037a",
   "metadata": {},
   "outputs": [
    {
     "data": {
      "text/html": [
       "<div>\n",
       "<style scoped>\n",
       "    .dataframe tbody tr th:only-of-type {\n",
       "        vertical-align: middle;\n",
       "    }\n",
       "\n",
       "    .dataframe tbody tr th {\n",
       "        vertical-align: top;\n",
       "    }\n",
       "\n",
       "    .dataframe thead th {\n",
       "        text-align: right;\n",
       "    }\n",
       "</style>\n",
       "<table border=\"1\" class=\"dataframe\">\n",
       "  <thead>\n",
       "    <tr style=\"text-align: right;\">\n",
       "      <th></th>\n",
       "      <th>txn_id</th>\n",
       "      <th>branch_name</th>\n",
       "      <th>service</th>\n",
       "      <th>price</th>\n",
       "    </tr>\n",
       "  </thead>\n",
       "  <tbody>\n",
       "    <tr>\n",
       "      <th>130643</th>\n",
       "      <td>TXN-11897</td>\n",
       "      <td>FrankMall</td>\n",
       "      <td>FootSpa</td>\n",
       "      <td>100.121230</td>\n",
       "    </tr>\n",
       "    <tr>\n",
       "      <th>130644</th>\n",
       "      <td>TXN-11897</td>\n",
       "      <td>RobinsonsMall</td>\n",
       "      <td>FootSpa</td>\n",
       "      <td>100.121230</td>\n",
       "    </tr>\n",
       "    <tr>\n",
       "      <th>130645</th>\n",
       "      <td>TXN-11897</td>\n",
       "      <td>FrankMall</td>\n",
       "      <td>FootSpa</td>\n",
       "      <td>100.121230</td>\n",
       "    </tr>\n",
       "    <tr>\n",
       "      <th>130646</th>\n",
       "      <td>TXN-43876</td>\n",
       "      <td></td>\n",
       "      <td>Haircut</td>\n",
       "      <td>66.123457</td>\n",
       "    </tr>\n",
       "    <tr>\n",
       "      <th>130647</th>\n",
       "      <td>TXN-65468</td>\n",
       "      <td>RobinsonsMall</td>\n",
       "      <td>Haircut</td>\n",
       "      <td>66.123457</td>\n",
       "    </tr>\n",
       "    <tr>\n",
       "      <th>130648</th>\n",
       "      <td>TXN-65468</td>\n",
       "      <td>MallOfAsia</td>\n",
       "      <td>Haircut</td>\n",
       "      <td>66.123457</td>\n",
       "    </tr>\n",
       "    <tr>\n",
       "      <th>130649</th>\n",
       "      <td>TXN-60822</td>\n",
       "      <td>MallOfAsia</td>\n",
       "      <td>Rebond</td>\n",
       "      <td>400.231230</td>\n",
       "    </tr>\n",
       "    <tr>\n",
       "      <th>130650</th>\n",
       "      <td>TXN-60822</td>\n",
       "      <td>FrankMall</td>\n",
       "      <td>Rebond</td>\n",
       "      <td>400.231230</td>\n",
       "    </tr>\n",
       "    <tr>\n",
       "      <th>130651</th>\n",
       "      <td>TXN-01784</td>\n",
       "      <td>RobinsonsMall</td>\n",
       "      <td>HairColor</td>\n",
       "      <td>88.093930</td>\n",
       "    </tr>\n",
       "    <tr>\n",
       "      <th>130652</th>\n",
       "      <td>TXN-01784</td>\n",
       "      <td>MallOfAsia</td>\n",
       "      <td>HairColor</td>\n",
       "      <td>88.093930</td>\n",
       "    </tr>\n",
       "  </tbody>\n",
       "</table>\n",
       "</div>"
      ],
      "text/plain": [
       "           txn_id    branch_name    service       price\n",
       "130643  TXN-11897      FrankMall    FootSpa  100.121230\n",
       "130644  TXN-11897  RobinsonsMall    FootSpa  100.121230\n",
       "130645  TXN-11897      FrankMall    FootSpa  100.121230\n",
       "130646  TXN-43876                   Haircut   66.123457\n",
       "130647  TXN-65468  RobinsonsMall    Haircut   66.123457\n",
       "130648  TXN-65468     MallOfAsia    Haircut   66.123457\n",
       "130649  TXN-60822     MallOfAsia     Rebond  400.231230\n",
       "130650  TXN-60822      FrankMall     Rebond  400.231230\n",
       "130651  TXN-01784  RobinsonsMall  HairColor   88.093930\n",
       "130652  TXN-01784     MallOfAsia  HairColor   88.093930"
      ]
     },
     "execution_count": 10,
     "metadata": {},
     "output_type": "execute_result"
    }
   ],
   "source": [
    "bs.tail(10)"
   ]
  },
  {
   "cell_type": "code",
   "execution_count": 11,
   "id": "1f6ded12-6056-4705-8001-c56b4eb465a0",
   "metadata": {},
   "outputs": [
    {
     "name": "stdout",
     "output_type": "stream",
     "text": [
      "(130653, 4)\n",
      "(130653, 5)\n"
     ]
    }
   ],
   "source": [
    "print(bs.shape)\n",
    "print(ct.shape)"
   ]
  },
  {
   "cell_type": "code",
   "execution_count": 15,
   "id": "14fb2496-cb73-4690-ab70-2a227d5dd684",
   "metadata": {},
   "outputs": [
    {
     "name": "stdout",
     "output_type": "stream",
     "text": [
      "62354\n",
      "62354\n"
     ]
    }
   ],
   "source": [
    "# get the number of unique items in the column\n",
    "print(bs['txn_id'].nunique())\n",
    "print(ct['txn_id'].nunique())"
   ]
  },
  {
   "cell_type": "code",
   "execution_count": 14,
   "id": "f6de70eb-e221-4ae4-b5bc-4c42382cc74f",
   "metadata": {},
   "outputs": [
    {
     "data": {
      "text/plain": [
       "array(['Manicure', 'HairColor', 'FootSpa', 'Rebond', 'Haircut',\n",
       "       'NailColor', 'Pedicure'], dtype=object)"
      ]
     },
     "execution_count": 14,
     "metadata": {},
     "output_type": "execute_result"
    }
   ],
   "source": [
    "bs['service'].unique() # get the unique values in that column "
   ]
  },
  {
   "cell_type": "code",
   "execution_count": 17,
   "id": "ac60ab19-36a6-4c4b-a655-3a0acd11c36e",
   "metadata": {},
   "outputs": [
    {
     "data": {
      "text/plain": [
       "count    110653.000000\n",
       "mean         95.966969\n",
       "std         115.874117\n",
       "min           0.000000\n",
       "25%          30.123790\n",
       "50%          66.123457\n",
       "75%          88.093930\n",
       "max         400.231230\n",
       "Name: price, dtype: float64"
      ]
     },
     "execution_count": 17,
     "metadata": {},
     "output_type": "execute_result"
    }
   ],
   "source": [
    "bs['price'].describe()"
   ]
  },
  {
   "cell_type": "code",
   "execution_count": 22,
   "id": "7c6707bb-367c-4d6c-9019-bc56fa711108",
   "metadata": {},
   "outputs": [
    {
     "name": "stdout",
     "output_type": "stream",
     "text": [
      "2005-01-01\n",
      "2030-12-30\n"
     ]
    }
   ],
   "source": [
    "print(ct['avail_date'].min())\n",
    "print(ct['avail_date'].max())"
   ]
  },
  {
   "cell_type": "code",
   "execution_count": 24,
   "id": "139fc4dc-9719-4e51-942b-2cb893538d72",
   "metadata": {},
   "outputs": [
    {
     "data": {
      "text/plain": [
       "50000               Heaney\n",
       "50001               Heaney\n",
       "50002            Marquardt\n",
       "50003            Marquardt\n",
       "50004            Marquardt\n",
       "               ...        \n",
       "69995        Weber,,,,,,,,\n",
       "69996      Cormier,,,,,,,,\n",
       "69997       Jacobs,,,,,,,,\n",
       "69998      Murazik,,,,,,,,\n",
       "69999         Kuhn,,,,,,,,\n",
       "Name: last_name, Length: 20000, dtype: object"
      ]
     },
     "execution_count": 24,
     "metadata": {},
     "output_type": "execute_result"
    }
   ],
   "source": [
    "ct['last_name'].iloc[50000:70000] # get certain values in this column"
   ]
  },
  {
   "cell_type": "markdown",
   "id": "52648f0b-d302-446e-8cb6-4f3fb796ccb0",
   "metadata": {},
   "source": [
    "# Creating the Data Pipeline Diagram"
   ]
  },
  {
   "cell_type": "markdown",
   "id": "42aaf1d0-71b0-47a5-a75b-3bb9d274d08a",
   "metadata": {},
   "source": [
    "## Data Cleaning"
   ]
  },
  {
   "cell_type": "code",
   "execution_count": 28,
   "id": "87680875-ff34-4cd1-ab26-8e250aa3b2ac",
   "metadata": {},
   "outputs": [
    {
     "name": "stdout",
     "output_type": "stream",
     "text": [
      "(130653, 5)\n",
      "(72355, 5)\n"
     ]
    }
   ],
   "source": [
    "# drop the duplicates\n",
    "print(ct.shape)\n",
    "ct = ct.drop_duplicates()\n",
    "print(ct.shape)"
   ]
  },
  {
   "cell_type": "code",
   "execution_count": 29,
   "id": "fadc94cd-9cd9-4dc7-beae-c107b36e4bb1",
   "metadata": {},
   "outputs": [],
   "source": [
    "ct.to_parquet('customer_txn_duplicates_removed.parquet')"
   ]
  },
  {
   "cell_type": "code",
   "execution_count": 30,
   "id": "54130288-faf7-4757-8858-69773fe0fb8e",
   "metadata": {},
   "outputs": [
    {
     "data": {
      "text/html": [
       "<div>\n",
       "<style scoped>\n",
       "    .dataframe tbody tr th:only-of-type {\n",
       "        vertical-align: middle;\n",
       "    }\n",
       "\n",
       "    .dataframe tbody tr th {\n",
       "        vertical-align: top;\n",
       "    }\n",
       "\n",
       "    .dataframe thead th {\n",
       "        text-align: right;\n",
       "    }\n",
       "</style>\n",
       "<table border=\"1\" class=\"dataframe\">\n",
       "  <thead>\n",
       "    <tr style=\"text-align: right;\">\n",
       "      <th></th>\n",
       "      <th>txn_id</th>\n",
       "      <th>avail_date</th>\n",
       "      <th>last_name</th>\n",
       "      <th>first_name</th>\n",
       "      <th>birthday</th>\n",
       "    </tr>\n",
       "  </thead>\n",
       "  <tbody>\n",
       "    <tr>\n",
       "      <th>0</th>\n",
       "      <td>TXN-24546</td>\n",
       "      <td>2030-09-08</td>\n",
       "      <td>ortiz</td>\n",
       "      <td>EDUARDO</td>\n",
       "      <td>1990-07-08</td>\n",
       "    </tr>\n",
       "    <tr>\n",
       "      <th>1</th>\n",
       "      <td>TXN-14642</td>\n",
       "      <td>2026-05-26</td>\n",
       "      <td>nienow</td>\n",
       "      <td>LEA</td>\n",
       "      <td>2000-11-26</td>\n",
       "    </tr>\n",
       "  </tbody>\n",
       "</table>\n",
       "</div>"
      ],
      "text/plain": [
       "      txn_id  avail_date last_name first_name    birthday\n",
       "0  TXN-24546  2030-09-08     ortiz    EDUARDO  1990-07-08\n",
       "1  TXN-14642  2026-05-26    nienow        LEA  2000-11-26"
      ]
     },
     "execution_count": 30,
     "metadata": {},
     "output_type": "execute_result"
    }
   ],
   "source": [
    "ct['last_name'] = ct['last_name'].str.lower()\n",
    "ct.head(2)"
   ]
  },
  {
   "cell_type": "code",
   "execution_count": 31,
   "id": "ccc0bf3e-5a42-4e0b-895c-537f5da8dd28",
   "metadata": {},
   "outputs": [],
   "source": [
    "ct.to_parquet('customer_txn_last_name_clean.parquet')"
   ]
  },
  {
   "cell_type": "markdown",
   "id": "87818d19-59ea-43af-a262-330e374eda3e",
   "metadata": {},
   "source": [
    "## Yearly View per Branch"
   ]
  },
  {
   "cell_type": "code",
   "execution_count": 32,
   "id": "558e15f8-18dc-4491-b199-c94d60085c39",
   "metadata": {},
   "outputs": [],
   "source": [
    "merged = pd.merge(ct, bs)\n",
    "merged.to_parquet('merged_data.parquet')"
   ]
  },
  {
   "cell_type": "code",
   "execution_count": 33,
   "id": "1b974e78-eb31-43d2-aae6-309c03d09f2c",
   "metadata": {},
   "outputs": [
    {
     "data": {
      "text/html": [
       "<div>\n",
       "<style scoped>\n",
       "    .dataframe tbody tr th:only-of-type {\n",
       "        vertical-align: middle;\n",
       "    }\n",
       "\n",
       "    .dataframe tbody tr th {\n",
       "        vertical-align: top;\n",
       "    }\n",
       "\n",
       "    .dataframe thead th {\n",
       "        text-align: right;\n",
       "    }\n",
       "</style>\n",
       "<table border=\"1\" class=\"dataframe\">\n",
       "  <thead>\n",
       "    <tr style=\"text-align: right;\">\n",
       "      <th></th>\n",
       "      <th>txn_id</th>\n",
       "      <th>avail_date</th>\n",
       "      <th>last_name</th>\n",
       "      <th>first_name</th>\n",
       "      <th>birthday</th>\n",
       "      <th>branch_name</th>\n",
       "      <th>service</th>\n",
       "      <th>price</th>\n",
       "    </tr>\n",
       "  </thead>\n",
       "  <tbody>\n",
       "    <tr>\n",
       "      <th>0</th>\n",
       "      <td>TXN-24546</td>\n",
       "      <td>2030-09-08</td>\n",
       "      <td>ortiz</td>\n",
       "      <td>EDUARDO</td>\n",
       "      <td>1990-07-08</td>\n",
       "      <td>MallOfAsia</td>\n",
       "      <td>Manicure</td>\n",
       "      <td>NaN</td>\n",
       "    </tr>\n",
       "    <tr>\n",
       "      <th>1</th>\n",
       "      <td>TXN-24546</td>\n",
       "      <td>2030-09-08</td>\n",
       "      <td>ortiz</td>\n",
       "      <td>EDUARDO</td>\n",
       "      <td>1990-07-08</td>\n",
       "      <td>MallOfAsia</td>\n",
       "      <td>Manicure</td>\n",
       "      <td>55.232400</td>\n",
       "    </tr>\n",
       "    <tr>\n",
       "      <th>2</th>\n",
       "      <td>TXN-24546</td>\n",
       "      <td>2012-04-03</td>\n",
       "      <td>ortiz</td>\n",
       "      <td>Eduardo</td>\n",
       "      <td>1999-04-08</td>\n",
       "      <td>MallOfAsia</td>\n",
       "      <td>Manicure</td>\n",
       "      <td>NaN</td>\n",
       "    </tr>\n",
       "    <tr>\n",
       "      <th>3</th>\n",
       "      <td>TXN-24546</td>\n",
       "      <td>2012-04-03</td>\n",
       "      <td>ortiz</td>\n",
       "      <td>Eduardo</td>\n",
       "      <td>1999-04-08</td>\n",
       "      <td>MallOfAsia</td>\n",
       "      <td>Manicure</td>\n",
       "      <td>55.232400</td>\n",
       "    </tr>\n",
       "    <tr>\n",
       "      <th>4</th>\n",
       "      <td>TXN-14642</td>\n",
       "      <td>2026-05-26</td>\n",
       "      <td>nienow</td>\n",
       "      <td>LEA</td>\n",
       "      <td>2000-11-26</td>\n",
       "      <td>Starmall</td>\n",
       "      <td>HairColor</td>\n",
       "      <td>NaN</td>\n",
       "    </tr>\n",
       "    <tr>\n",
       "      <th>...</th>\n",
       "      <td>...</td>\n",
       "      <td>...</td>\n",
       "      <td>...</td>\n",
       "      <td>...</td>\n",
       "      <td>...</td>\n",
       "      <td>...</td>\n",
       "      <td>...</td>\n",
       "      <td>...</td>\n",
       "    </tr>\n",
       "    <tr>\n",
       "      <th>166817</th>\n",
       "      <td>TXN-43076</td>\n",
       "      <td>2021-02-27</td>\n",
       "      <td>champlin</td>\n",
       "      <td>Queen</td>\n",
       "      <td>1995-03-29</td>\n",
       "      <td>MayMall</td>\n",
       "      <td>Haircut</td>\n",
       "      <td>66.123457</td>\n",
       "    </tr>\n",
       "    <tr>\n",
       "      <th>166818</th>\n",
       "      <td>TXN-43076</td>\n",
       "      <td>2021-02-27</td>\n",
       "      <td>champlin</td>\n",
       "      <td>Queen</td>\n",
       "      <td>1995-03-29</td>\n",
       "      <td>MayMall</td>\n",
       "      <td>Haircut</td>\n",
       "      <td>66.123457</td>\n",
       "    </tr>\n",
       "    <tr>\n",
       "      <th>166819</th>\n",
       "      <td>TXN-43065</td>\n",
       "      <td>2025-01-05</td>\n",
       "      <td>wyman</td>\n",
       "      <td>Giovanny</td>\n",
       "      <td>1993-01-10</td>\n",
       "      <td>Megamall</td>\n",
       "      <td>Rebond</td>\n",
       "      <td>400.231230</td>\n",
       "    </tr>\n",
       "    <tr>\n",
       "      <th>166820</th>\n",
       "      <td>TXN-43065</td>\n",
       "      <td>2025-01-05</td>\n",
       "      <td>wyman</td>\n",
       "      <td>Giovanny</td>\n",
       "      <td>1993-01-10</td>\n",
       "      <td>MallOfAsia</td>\n",
       "      <td>Rebond</td>\n",
       "      <td>400.231230</td>\n",
       "    </tr>\n",
       "    <tr>\n",
       "      <th>166821</th>\n",
       "      <td>TXN-43065</td>\n",
       "      <td>2025-01-05</td>\n",
       "      <td>wyman</td>\n",
       "      <td>Giovanny</td>\n",
       "      <td>1993-01-10</td>\n",
       "      <td>SmallMall</td>\n",
       "      <td>Rebond</td>\n",
       "      <td>400.231230</td>\n",
       "    </tr>\n",
       "  </tbody>\n",
       "</table>\n",
       "<p>166822 rows × 8 columns</p>\n",
       "</div>"
      ],
      "text/plain": [
       "           txn_id  avail_date last_name first_name    birthday branch_name  \\\n",
       "0       TXN-24546  2030-09-08     ortiz    EDUARDO  1990-07-08  MallOfAsia   \n",
       "1       TXN-24546  2030-09-08     ortiz    EDUARDO  1990-07-08  MallOfAsia   \n",
       "2       TXN-24546  2012-04-03     ortiz    Eduardo  1999-04-08  MallOfAsia   \n",
       "3       TXN-24546  2012-04-03     ortiz    Eduardo  1999-04-08  MallOfAsia   \n",
       "4       TXN-14642  2026-05-26    nienow        LEA  2000-11-26    Starmall   \n",
       "...           ...         ...       ...        ...         ...         ...   \n",
       "166817  TXN-43076  2021-02-27  champlin      Queen  1995-03-29     MayMall   \n",
       "166818  TXN-43076  2021-02-27  champlin      Queen  1995-03-29     MayMall   \n",
       "166819  TXN-43065  2025-01-05     wyman   Giovanny  1993-01-10    Megamall   \n",
       "166820  TXN-43065  2025-01-05     wyman   Giovanny  1993-01-10  MallOfAsia   \n",
       "166821  TXN-43065  2025-01-05     wyman   Giovanny  1993-01-10   SmallMall   \n",
       "\n",
       "          service       price  \n",
       "0        Manicure         NaN  \n",
       "1        Manicure   55.232400  \n",
       "2        Manicure         NaN  \n",
       "3        Manicure   55.232400  \n",
       "4       HairColor         NaN  \n",
       "...           ...         ...  \n",
       "166817    Haircut   66.123457  \n",
       "166818    Haircut   66.123457  \n",
       "166819     Rebond  400.231230  \n",
       "166820     Rebond  400.231230  \n",
       "166821     Rebond  400.231230  \n",
       "\n",
       "[166822 rows x 8 columns]"
      ]
     },
     "execution_count": 33,
     "metadata": {},
     "output_type": "execute_result"
    }
   ],
   "source": [
    "merged"
   ]
  },
  {
   "cell_type": "code",
   "execution_count": 35,
   "id": "2503ca89-6af2-4caa-af49-036ef6967be1",
   "metadata": {},
   "outputs": [
    {
     "data": {
      "text/html": [
       "<div>\n",
       "<style scoped>\n",
       "    .dataframe tbody tr th:only-of-type {\n",
       "        vertical-align: middle;\n",
       "    }\n",
       "\n",
       "    .dataframe tbody tr th {\n",
       "        vertical-align: top;\n",
       "    }\n",
       "\n",
       "    .dataframe thead th {\n",
       "        text-align: right;\n",
       "    }\n",
       "</style>\n",
       "<table border=\"1\" class=\"dataframe\">\n",
       "  <thead>\n",
       "    <tr style=\"text-align: right;\">\n",
       "      <th></th>\n",
       "      <th></th>\n",
       "      <th>price</th>\n",
       "    </tr>\n",
       "    <tr>\n",
       "      <th>avail_date</th>\n",
       "      <th>branch_name</th>\n",
       "      <th></th>\n",
       "    </tr>\n",
       "  </thead>\n",
       "  <tbody>\n",
       "    <tr>\n",
       "      <th rowspan=\"5\" valign=\"top\">2005</th>\n",
       "      <th></th>\n",
       "      <td>4298.024691</td>\n",
       "    </tr>\n",
       "    <tr>\n",
       "      <th>FrankMall</th>\n",
       "      <td>56711.249909</td>\n",
       "    </tr>\n",
       "    <tr>\n",
       "      <th>MallOfAsia</th>\n",
       "      <td>62502.141612</td>\n",
       "    </tr>\n",
       "    <tr>\n",
       "      <th>MayMall</th>\n",
       "      <td>65314.419050</td>\n",
       "    </tr>\n",
       "    <tr>\n",
       "      <th>Megamall</th>\n",
       "      <td>63722.520395</td>\n",
       "    </tr>\n",
       "    <tr>\n",
       "      <th>...</th>\n",
       "      <th>...</th>\n",
       "      <td>...</td>\n",
       "    </tr>\n",
       "    <tr>\n",
       "      <th rowspan=\"5\" valign=\"top\">2030</th>\n",
       "      <th>Megamall</th>\n",
       "      <td>61514.464025</td>\n",
       "    </tr>\n",
       "    <tr>\n",
       "      <th>N/A</th>\n",
       "      <td>2048.417700</td>\n",
       "    </tr>\n",
       "    <tr>\n",
       "      <th>RobinsonsMall</th>\n",
       "      <td>56816.266169</td>\n",
       "    </tr>\n",
       "    <tr>\n",
       "      <th>SmallMall</th>\n",
       "      <td>60680.995068</td>\n",
       "    </tr>\n",
       "    <tr>\n",
       "      <th>Starmall</th>\n",
       "      <td>64301.362128</td>\n",
       "    </tr>\n",
       "  </tbody>\n",
       "</table>\n",
       "<p>234 rows × 1 columns</p>\n",
       "</div>"
      ],
      "text/plain": [
       "                                 price\n",
       "avail_date branch_name                \n",
       "2005                       4298.024691\n",
       "           FrankMall      56711.249909\n",
       "           MallOfAsia     62502.141612\n",
       "           MayMall        65314.419050\n",
       "           Megamall       63722.520395\n",
       "...                                ...\n",
       "2030       Megamall       61514.464025\n",
       "           N/A             2048.417700\n",
       "           RobinsonsMall  56816.266169\n",
       "           SmallMall      60680.995068\n",
       "           Starmall       64301.362128\n",
       "\n",
       "[234 rows x 1 columns]"
      ]
     },
     "execution_count": 35,
     "metadata": {},
     "output_type": "execute_result"
    }
   ],
   "source": [
    "merged['avail_date'] = pd.to_datetime(merged['avail_date'])\n",
    "merged.groupby([merged.avail_date.dt.year, 'branch_name'])['price'].sum().to_frame() # query by a group by similar to sql"
   ]
  },
  {
   "cell_type": "markdown",
   "id": "fd47647c-8101-4635-aee8-98058ba79302",
   "metadata": {},
   "source": [
    "We then separate these jobs into separate python files for scheduling. We'll be using chron for scheduling"
   ]
  },
  {
   "cell_type": "code",
   "execution_count": null,
   "id": "2e8ce483-a678-4e1b-9f5b-b17466e58a5c",
   "metadata": {},
   "outputs": [],
   "source": []
  }
 ],
 "metadata": {
  "kernelspec": {
   "display_name": "Python 3 (ipykernel)",
   "language": "python",
   "name": "python3"
  },
  "language_info": {
   "codemirror_mode": {
    "name": "ipython",
    "version": 3
   },
   "file_extension": ".py",
   "mimetype": "text/x-python",
   "name": "python",
   "nbconvert_exporter": "python",
   "pygments_lexer": "ipython3",
   "version": "3.10.5"
  }
 },
 "nbformat": 4,
 "nbformat_minor": 5
}
