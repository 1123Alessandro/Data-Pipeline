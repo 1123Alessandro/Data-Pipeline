{
 "cells": [
  {
   "cell_type": "code",
   "execution_count": 20,
   "id": "4010e6cd-9df9-4a87-be6e-0b66b6b1ca7a",
   "metadata": {},
   "outputs": [],
   "source": [
    "import pandas as pd\n",
    "import pyperclip as pc\n",
    "\n",
    "bs = pd.read_json('./branch_service_transaction_info.json')\n",
    "ct = pd.read_json('./customer_transaction_info.json')\n"
   ]
  },
  {
   "cell_type": "markdown",
   "id": "73b9d433-df62-4276-a95a-f553ba57a1aa",
   "metadata": {},
   "source": [
    "# Data Profiling"
   ]
  },
  {
   "cell_type": "code",
   "execution_count": 21,
   "id": "62da8199-306c-47db-a438-60b8d28aca82",
   "metadata": {},
   "outputs": [
    {
     "data": {
      "text/plain": [
       "Index(['txn_id', 'avail_date', 'last_name', 'first_name', 'birthday'], dtype='object')"
      ]
     },
     "execution_count": 21,
     "metadata": {},
     "output_type": "execute_result"
    }
   ],
   "source": [
    "ct.columns"
   ]
  },
  {
   "cell_type": "markdown",
   "id": "1149582e-814c-4dd5-a239-537cd2f0342f",
   "metadata": {},
   "source": [
    "## Customer Transaction Columns"
   ]
  },
  {
   "cell_type": "code",
   "execution_count": 41,
   "id": "4251f4ef-df08-49b8-bec2-b018e59416d5",
   "metadata": {},
   "outputs": [
    {
     "name": "stdout",
     "output_type": "stream",
     "text": [
      "txn_id: object\n",
      "130653 elements with 62354 unique elements\n",
      "['TXN-24546' 'TXN-14642' 'TXN-60295' ... 'TXN-18396' 'TXN-43076'\n",
      " 'TXN-43065']\n",
      "--------------------------------------------------\n",
      "\n",
      "avail_date: object\n",
      "130653 elements with 9489 unique elements\n",
      "['2030-09-08' '2026-05-26' '2006-09-25' ... '2018-10-06' '2024-11-22'\n",
      " '2024-01-06']\n",
      "--------------------------------------------------\n",
      "\n",
      "last_name: object\n",
      "130653 elements with 2345 unique elements\n",
      "['ORTIZ' 'NIENOW' 'LESCH' ... 'Hamill' 'Stroman' 'Macejkovic']\n",
      "--------------------------------------------------\n",
      "\n",
      "first_name: object\n",
      "130653 elements with 14740 unique elements\n",
      "['EDUARDO' 'LEA' 'FLETA' ... 'Brandi' 'Jared' 'Santos']\n",
      "--------------------------------------------------\n",
      "\n",
      "birthday: object\n",
      "130653 elements with 7668 unique elements\n",
      "['1990-07-08' '2000-11-26' '1993-05-22' ... '2002-02-14' '1996-03-28'\n",
      " '1997-11-09']\n",
      "--------------------------------------------------\n",
      "\n"
     ]
    }
   ],
   "source": [
    "for i in ct.columns:\n",
    "    x = ct[i]\n",
    "    print(f'{i}: {x.dtype}')\n",
    "    print(f'{x.shape[0]} elements with {x.nunique()} unique elements')\n",
    "    print(x.unique())\n",
    "    print('--------------------------------------------------')\n",
    "    print()"
   ]
  },
  {
   "cell_type": "markdown",
   "id": "92708152-7334-4c18-8a5b-a5040c911a70",
   "metadata": {},
   "source": [
    "## Branch Service Transaction Columns"
   ]
  },
  {
   "cell_type": "code",
   "execution_count": 42,
   "id": "e0b53b85-0aa7-4efe-842f-0d753e876751",
   "metadata": {},
   "outputs": [
    {
     "name": "stdout",
     "output_type": "stream",
     "text": [
      "txn_id: object\n",
      "130653 elements with 62354 unique elements\n",
      "['TXN-24546' 'TXN-14642' 'TXN-60295' ... 'TXN-18396' 'TXN-43076'\n",
      " 'TXN-43065']\n",
      "--------------------------------------------------\n",
      "\n",
      "branch_name: object\n",
      "130653 elements with 9 unique elements\n",
      "['MallOfAsia' 'Starmall' 'SmallMall' 'MayMall' 'FrankMall' 'Megamall'\n",
      " 'RobinsonsMall' '' None 'N/A']\n",
      "--------------------------------------------------\n",
      "\n",
      "service: object\n",
      "130653 elements with 7 unique elements\n",
      "['Manicure' 'HairColor' 'FootSpa' 'Rebond' 'Haircut' 'NailColor'\n",
      " 'Pedicure']\n",
      "--------------------------------------------------\n",
      "\n",
      "price: float64\n",
      "130653 elements with 8 unique elements\n",
      "[         nan   0.          30.1237897   66.12345678  77.987989\n",
      " 100.12123    400.23123     55.2324      88.09393   ]\n",
      "--------------------------------------------------\n",
      "\n"
     ]
    }
   ],
   "source": [
    "for i in bs.columns:\n",
    "    x = bs[i]\n",
    "    print(f'{i}: {x.dtype}')\n",
    "    print(f'{x.shape[0]} elements with {x.nunique()} unique elements')\n",
    "    print(x.unique())\n",
    "    print('--------------------------------------------------')\n",
    "    print()"
   ]
  },
  {
   "cell_type": "markdown",
   "id": "7378768b-56c4-4889-8c50-8796381b301e",
   "metadata": {},
   "source": [
    "## Error Scanning\r\n",
    "\r\n",
    "```\r\n",
    "TODO: find a way to apply a function to each series in a dataframe and to each element in a series\r\n",
    "```\r\n",
    "- That way we can actually do regex checking or type checking for possible incorrect vlues\r\n"
   ]
  },
  {
   "cell_type": "markdown",
   "id": "e46ba6dd-9dc8-4122-9858-5713d518a5e9",
   "metadata": {},
   "source": [
    "# Data Cleaning"
   ]
  },
  {
   "cell_type": "code",
   "execution_count": null,
   "id": "5dcad3f8-6d56-4217-9747-a86e731e9759",
   "metadata": {},
   "outputs": [],
   "source": []
  }
 ],
 "metadata": {
  "kernelspec": {
   "display_name": "Python 3 (ipykernel)",
   "language": "python",
   "name": "python3"
  },
  "language_info": {
   "codemirror_mode": {
    "name": "ipython",
    "version": 3
   },
   "file_extension": ".py",
   "mimetype": "text/x-python",
   "name": "python",
   "nbconvert_exporter": "python",
   "pygments_lexer": "ipython3",
   "version": "3.10.5"
  }
 },
 "nbformat": 4,
 "nbformat_minor": 5
}
